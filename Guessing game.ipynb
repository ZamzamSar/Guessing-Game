{
 "cells": [
  {
   "cell_type": "markdown",
   "id": "d73344b1",
   "metadata": {},
   "source": [
    "## Guessing Game \n",
    "\n",
    "by: Zamzam Alsarayrah"
   ]
  },
  {
   "cell_type": "markdown",
   "id": "a644e545",
   "metadata": {},
   "source": [
    "***Just for fun and practice I created a guessing game with If condition and the While loop.\n",
    "There is simply a word present and you have to guess what it is but just for fun, I just entered a condition that you only have to try three times and then it kicks you out of the game if you don't guess the correct word.***"
   ]
  },
  {
   "cell_type": "code",
   "execution_count": 9,
   "id": "736836ab",
   "metadata": {},
   "outputs": [],
   "source": [
    "# my variable ,what user have to guess\n",
    "secret_word = 'general assembly'\n",
    "# when user guess the word it will keep in this variable \n",
    "guess = ''\n",
    "# how many can the user try\n",
    "guess_count = 0\n",
    "guess_limit = 3\n",
    "out_of_guesses = False"
   ]
  },
  {
   "cell_type": "code",
   "execution_count": 10,
   "id": "3090f49a",
   "metadata": {},
   "outputs": [
    {
     "name": "stdout",
     "output_type": "stream",
     "text": [
      "enter guesszamzam\n",
      "enter guessgeneral assembly\n",
      "You win\n"
     ]
    }
   ],
   "source": [
    "# while loop \n",
    "while guess != secret_word and not out_of_guesses:\n",
    "    if guess_count < guess_limit: #make If condtion\n",
    "        guess = input('enter guess') # keep user try to gues what the word \n",
    "        guess_count+=1 # +1 every time the user try\n",
    "    else:\n",
    "        out_of_guesses = True\n",
    "    \n",
    "if out_of_guesses: # is this variable True\n",
    "    print('You Lose')\n",
    "    \n",
    "else:print('You win')    "
   ]
  }
 ],
 "metadata": {
  "kernelspec": {
   "display_name": "Python 3",
   "language": "python",
   "name": "python3"
  },
  "language_info": {
   "codemirror_mode": {
    "name": "ipython",
    "version": 3
   },
   "file_extension": ".py",
   "mimetype": "text/x-python",
   "name": "python",
   "nbconvert_exporter": "python",
   "pygments_lexer": "ipython3",
   "version": "3.8.8"
  }
 },
 "nbformat": 4,
 "nbformat_minor": 5
}
